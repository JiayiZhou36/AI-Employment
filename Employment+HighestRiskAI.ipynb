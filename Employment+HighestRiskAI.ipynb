{
 "cells": [
  {
   "cell_type": "code",
   "execution_count": 1,
   "metadata": {},
   "outputs": [],
   "source": [
    "import pandas as pd\n",
    "import numpy as np\n",
    "\n",
    "pd.set_option(\"mode.copy_on_write\", True)\n",
    "\n",
    "employment = pd.read_csv(\"employment.csv\")"
   ]
  },
  {
   "cell_type": "code",
   "execution_count": 2,
   "metadata": {},
   "outputs": [
    {
     "data": {
      "text/html": [
       "<div>\n",
       "<style scoped>\n",
       "    .dataframe tbody tr th:only-of-type {\n",
       "        vertical-align: middle;\n",
       "    }\n",
       "\n",
       "    .dataframe tbody tr th {\n",
       "        vertical-align: top;\n",
       "    }\n",
       "\n",
       "    .dataframe thead th {\n",
       "        text-align: right;\n",
       "    }\n",
       "</style>\n",
       "<table border=\"1\" class=\"dataframe\">\n",
       "  <thead>\n",
       "    <tr style=\"text-align: right;\">\n",
       "      <th></th>\n",
       "      <th>ref_area.label</th>\n",
       "      <th>source.label</th>\n",
       "      <th>indicator.label</th>\n",
       "      <th>sex.label</th>\n",
       "      <th>classif1.label</th>\n",
       "      <th>time</th>\n",
       "      <th>obs_value</th>\n",
       "      <th>obs_status.label</th>\n",
       "      <th>note_classif.label</th>\n",
       "      <th>note_indicator.label</th>\n",
       "      <th>note_source.label</th>\n",
       "    </tr>\n",
       "  </thead>\n",
       "  <tbody>\n",
       "    <tr>\n",
       "      <th>0</th>\n",
       "      <td>Aruba</td>\n",
       "      <td>LFS - Labour Force Survey</td>\n",
       "      <td>Employment by sex and economic activity (thous...</td>\n",
       "      <td>Sex: Total</td>\n",
       "      <td>Economic activity (Broad sector): Total</td>\n",
       "      <td>2011</td>\n",
       "      <td>47.915</td>\n",
       "      <td>NaN</td>\n",
       "      <td>NaN</td>\n",
       "      <td>NaN</td>\n",
       "      <td>NaN</td>\n",
       "    </tr>\n",
       "    <tr>\n",
       "      <th>1</th>\n",
       "      <td>Aruba</td>\n",
       "      <td>LFS - Labour Force Survey</td>\n",
       "      <td>Employment by sex and economic activity (thous...</td>\n",
       "      <td>Sex: Total</td>\n",
       "      <td>Economic activity (Broad sector): Agriculture</td>\n",
       "      <td>2011</td>\n",
       "      <td>0.286</td>\n",
       "      <td>NaN</td>\n",
       "      <td>NaN</td>\n",
       "      <td>NaN</td>\n",
       "      <td>NaN</td>\n",
       "    </tr>\n",
       "    <tr>\n",
       "      <th>2</th>\n",
       "      <td>Aruba</td>\n",
       "      <td>LFS - Labour Force Survey</td>\n",
       "      <td>Employment by sex and economic activity (thous...</td>\n",
       "      <td>Sex: Total</td>\n",
       "      <td>Economic activity (Broad sector): Non-agriculture</td>\n",
       "      <td>2011</td>\n",
       "      <td>47.629</td>\n",
       "      <td>NaN</td>\n",
       "      <td>NaN</td>\n",
       "      <td>NaN</td>\n",
       "      <td>NaN</td>\n",
       "    </tr>\n",
       "    <tr>\n",
       "      <th>3</th>\n",
       "      <td>Aruba</td>\n",
       "      <td>LFS - Labour Force Survey</td>\n",
       "      <td>Employment by sex and economic activity (thous...</td>\n",
       "      <td>Sex: Total</td>\n",
       "      <td>Economic activity (Broad sector): Industry</td>\n",
       "      <td>2011</td>\n",
       "      <td>6.728</td>\n",
       "      <td>NaN</td>\n",
       "      <td>NaN</td>\n",
       "      <td>NaN</td>\n",
       "      <td>NaN</td>\n",
       "    </tr>\n",
       "    <tr>\n",
       "      <th>4</th>\n",
       "      <td>Aruba</td>\n",
       "      <td>LFS - Labour Force Survey</td>\n",
       "      <td>Employment by sex and economic activity (thous...</td>\n",
       "      <td>Sex: Total</td>\n",
       "      <td>Economic activity (Broad sector): Services</td>\n",
       "      <td>2011</td>\n",
       "      <td>40.763</td>\n",
       "      <td>NaN</td>\n",
       "      <td>NaN</td>\n",
       "      <td>NaN</td>\n",
       "      <td>NaN</td>\n",
       "    </tr>\n",
       "  </tbody>\n",
       "</table>\n",
       "</div>"
      ],
      "text/plain": [
       "  ref_area.label               source.label  \\\n",
       "0          Aruba  LFS - Labour Force Survey   \n",
       "1          Aruba  LFS - Labour Force Survey   \n",
       "2          Aruba  LFS - Labour Force Survey   \n",
       "3          Aruba  LFS - Labour Force Survey   \n",
       "4          Aruba  LFS - Labour Force Survey   \n",
       "\n",
       "                                     indicator.label   sex.label  \\\n",
       "0  Employment by sex and economic activity (thous...  Sex: Total   \n",
       "1  Employment by sex and economic activity (thous...  Sex: Total   \n",
       "2  Employment by sex and economic activity (thous...  Sex: Total   \n",
       "3  Employment by sex and economic activity (thous...  Sex: Total   \n",
       "4  Employment by sex and economic activity (thous...  Sex: Total   \n",
       "\n",
       "                                      classif1.label  time  obs_value  \\\n",
       "0            Economic activity (Broad sector): Total  2011     47.915   \n",
       "1      Economic activity (Broad sector): Agriculture  2011      0.286   \n",
       "2  Economic activity (Broad sector): Non-agriculture  2011     47.629   \n",
       "3         Economic activity (Broad sector): Industry  2011      6.728   \n",
       "4         Economic activity (Broad sector): Services  2011     40.763   \n",
       "\n",
       "  obs_status.label note_classif.label note_indicator.label note_source.label  \n",
       "0              NaN                NaN                  NaN               NaN  \n",
       "1              NaN                NaN                  NaN               NaN  \n",
       "2              NaN                NaN                  NaN               NaN  \n",
       "3              NaN                NaN                  NaN               NaN  \n",
       "4              NaN                NaN                  NaN               NaN  "
      ]
     },
     "execution_count": 2,
     "metadata": {},
     "output_type": "execute_result"
    }
   ],
   "source": [
    "employment.head()"
   ]
  },
  {
   "cell_type": "markdown",
   "metadata": {},
   "source": [
    "### World AI Automation High Risk Count Estimation Map"
   ]
  },
  {
   "cell_type": "code",
   "execution_count": 3,
   "metadata": {},
   "outputs": [],
   "source": [
    "employment_isic_total = employment[\n",
    "    employment[\"classif1.label\"].str.contains(\"ISIC\")\n",
    "    & employment[\"classif1.label\"].str.contains(\"Total\")\n",
    "]"
   ]
  },
  {
   "cell_type": "code",
   "execution_count": 4,
   "metadata": {},
   "outputs": [],
   "source": [
    "riskjob = pd.read_csv(\"JobRisk.csv\")"
   ]
  },
  {
   "cell_type": "code",
   "execution_count": 5,
   "metadata": {},
   "outputs": [
    {
     "data": {
      "text/html": [
       "<div>\n",
       "<style scoped>\n",
       "    .dataframe tbody tr th:only-of-type {\n",
       "        vertical-align: middle;\n",
       "    }\n",
       "\n",
       "    .dataframe tbody tr th {\n",
       "        vertical-align: top;\n",
       "    }\n",
       "\n",
       "    .dataframe thead th {\n",
       "        text-align: right;\n",
       "    }\n",
       "</style>\n",
       "<table border=\"1\" class=\"dataframe\">\n",
       "  <thead>\n",
       "    <tr style=\"text-align: right;\">\n",
       "      <th></th>\n",
       "      <th>Country</th>\n",
       "      <th>Share of Jobs at Highest Risk of Automation</th>\n",
       "    </tr>\n",
       "  </thead>\n",
       "  <tbody>\n",
       "    <tr>\n",
       "      <th>0</th>\n",
       "      <td>Luxembourg</td>\n",
       "      <td>17.7</td>\n",
       "    </tr>\n",
       "    <tr>\n",
       "      <th>1</th>\n",
       "      <td>United Kingdom of Great Britain and Northern I...</td>\n",
       "      <td>19.0</td>\n",
       "    </tr>\n",
       "    <tr>\n",
       "      <th>2</th>\n",
       "      <td>Sweden</td>\n",
       "      <td>20.1</td>\n",
       "    </tr>\n",
       "    <tr>\n",
       "      <th>3</th>\n",
       "      <td>Netherlands</td>\n",
       "      <td>20.9</td>\n",
       "    </tr>\n",
       "    <tr>\n",
       "      <th>4</th>\n",
       "      <td>Norway</td>\n",
       "      <td>21.0</td>\n",
       "    </tr>\n",
       "  </tbody>\n",
       "</table>\n",
       "</div>"
      ],
      "text/plain": [
       "                                             Country  \\\n",
       "0                                         Luxembourg   \n",
       "1  United Kingdom of Great Britain and Northern I...   \n",
       "2                                             Sweden   \n",
       "3                                        Netherlands   \n",
       "4                                             Norway   \n",
       "\n",
       "   Share of Jobs at Highest Risk of Automation  \n",
       "0                                         17.7  \n",
       "1                                         19.0  \n",
       "2                                         20.1  \n",
       "3                                         20.9  \n",
       "4                                         21.0  "
      ]
     },
     "execution_count": 5,
     "metadata": {},
     "output_type": "execute_result"
    }
   ],
   "source": [
    "riskjob.head()"
   ]
  },
  {
   "cell_type": "code",
   "execution_count": 6,
   "metadata": {},
   "outputs": [
    {
     "data": {
      "image/png": "[encoded data removed]",
      "text/plain": [
       "<Figure size 1000x600 with 1 Axes>"
      ]
     },
     "metadata": {},
     "output_type": "display_data"
    }
   ],
   "source": [
    "import seaborn as sns\n",
    "import seaborn.objects as so\n",
    "\n",
    "import warnings\n",
    "\n",
    "warnings.simplefilter(action=\"ignore\", category=FutureWarning)\n",
    "\n",
    "import matplotlib.pyplot as plt\n",
    "\n",
    "# Sort by value\n",
    "riskjob_sorted = riskjob.sort_values(\n",
    "    by=\"Share of Jobs at Highest Risk of Automation\", ascending=False\n",
    ")\n",
    "\n",
    "# Create a bar chart\n",
    "plt.figure(figsize=(10, 6))\n",
    "plt.bar(\n",
    "    riskjob_sorted[\"Country\"],\n",
    "    riskjob_sorted[\"Share of Jobs at Highest Risk of Automation\"],\n",
    ")\n",
    "plt.xlabel(\"Country\")\n",
    "plt.ylabel(\"Share of Jobs at Highest Risk of Automation (%)\")\n",
    "plt.title(\"Share of Jobs at Highest Risk of Automation by Country\")\n",
    "plt.xticks(rotation=45)\n",
    "plt.tight_layout()\n",
    "\n",
    "# Display the chart\n",
    "plt.show()"
   ]
  },
  {
   "cell_type": "code",
   "execution_count": 7,
   "metadata": {},
   "outputs": [],
   "source": [
    "merged_countries = employment_isic_total.merge(\n",
    "    riskjob, left_on=\"ref_area.label\", right_on=\"Country\"\n",
    ")"
   ]
  },
  {
   "cell_type": "code",
   "execution_count": 8,
   "metadata": {},
   "outputs": [],
   "source": [
    "merged_countries[\"time\"] = merged_countries[\"time\"].astype(int)"
   ]
  },
  {
   "cell_type": "code",
   "execution_count": 9,
   "metadata": {},
   "outputs": [],
   "source": [
    "max_time = merged_countries.groupby([\"ref_area.label\", \"sex.label\"]).apply(\n",
    "    lambda x: x.sort_values(by=\"time\", ascending=False).head(1),\n",
    "    include_groups=False,  # Added argument to silence the warning\n",
    ")\n",
    "max_time = max_time.reset_index(drop=False)"
   ]
  },
  {
   "cell_type": "code",
   "execution_count": 10,
   "metadata": {},
   "outputs": [],
   "source": [
    "max_time[\"affected\"] = (\n",
    "    max_time[\"obs_value\"]\n",
    "    * 1000\n",
    "    * max_time[\"Share of Jobs at Highest Risk of Automation\"]\n",
    "    / 100\n",
    ").astype(int)"
   ]
  },
  {
   "cell_type": "code",
   "execution_count": 11,
   "metadata": {},
   "outputs": [],
   "source": [
    "max_time_map = max_time[[\"ref_area.label\", \"sex.label\", \"affected\"]]"
   ]
  },
  {
   "cell_type": "code",
   "execution_count": 12,
   "metadata": {},
   "outputs": [
    {
     "data": {
      "text/html": [
       "\n",
       "        <iframe\n",
       "            width=\"100%\"\n",
       "            height=\"650\"\n",
       "            src=\"http://127.0.0.1:8052/\"\n",
       "            frameborder=\"0\"\n",
       "            allowfullscreen\n",
       "            \n",
       "        ></iframe>\n",
       "        "
      ],
      "text/plain": [
       "<IPython.lib.display.IFrame at 0x2ad8a0b10>"
      ]
     },
     "metadata": {},
     "output_type": "display_data"
    }
   ],
   "source": [
    "import pandas as pd\n",
    "import plotly.express as px\n",
    "from dash import Dash, dcc, html\n",
    "from dash.dependencies import Input, Output\n",
    "\n",
    "# Create the Dash app\n",
    "app = Dash(__name__)\n",
    "\n",
    "app.layout = html.Div(\n",
    "    [\n",
    "        html.H1(\"Affected Population by Sex and Country\"),\n",
    "        dcc.Dropdown(\n",
    "            id=\"sex-dropdown\",\n",
    "            options=[\n",
    "                {\"label\": sex, \"value\": sex}\n",
    "                for sex in max_time_map[\"sex.label\"].unique()\n",
    "            ],\n",
    "            value=\"Sex: Total\",\n",
    "        ),\n",
    "        dcc.Graph(id=\"map-graph\"),\n",
    "    ]\n",
    ")\n",
    "\n",
    "\n",
    "@app.callback(Output(\"map-graph\", \"figure\"), [Input(\"sex-dropdown\", \"value\")])\n",
    "def update_figure(selected_sex):\n",
    "    filtered_df = max_time_map[max_time_map[\"sex.label\"] == selected_sex]\n",
    "\n",
    "    fig = px.choropleth(\n",
    "        filtered_df,\n",
    "        locations=\"ref_area.label\",\n",
    "        locationmode=\"country names\",\n",
    "        color=\"affected\",\n",
    "        hover_name=\"ref_area.label\",\n",
    "        color_continuous_scale=px.colors.sequential.Plasma,\n",
    "        title=f\"Jobs at Highest Risk of AI Automation by {selected_sex}, OECD Data\",\n",
    "    )\n",
    "\n",
    "    fig.update_layout(geo=dict(showframe=False, showcoastlines=False))\n",
    "    return fig\n",
    "\n",
    "\n",
    "if __name__ == \"__main__\":\n",
    "    app.run_server(debug=True, port=8052)"
   ]
  },
  {
   "cell_type": "markdown",
   "metadata": {},
   "source": [
    "### World All Industry Employment"
   ]
  },
  {
   "cell_type": "code",
   "execution_count": 13,
   "metadata": {},
   "outputs": [],
   "source": [
    "employment_isic_total[\"time\"] = employment_isic_total[\"time\"].astype(int)"
   ]
  },
  {
   "cell_type": "code",
   "execution_count": 14,
   "metadata": {},
   "outputs": [
    {
     "data": {
      "text/html": [
       "\n",
       "        <iframe\n",
       "            width=\"100%\"\n",
       "            height=\"650\"\n",
       "            src=\"http://127.0.0.1:8051/\"\n",
       "            frameborder=\"0\"\n",
       "            allowfullscreen\n",
       "            \n",
       "        ></iframe>\n",
       "        "
      ],
      "text/plain": [
       "<IPython.lib.display.IFrame at 0x122320090>"
      ]
     },
     "metadata": {},
     "output_type": "display_data"
    }
   ],
   "source": [
    "import pandas as pd\n",
    "import plotly.express as px\n",
    "import plotly.graph_objects as go\n",
    "from dash import Dash, dcc, html\n",
    "from dash.dependencies import Input, Output\n",
    "\n",
    "# Create the Dash app\n",
    "app = Dash(__name__)\n",
    "\n",
    "app.layout = html.Div(\n",
    "    [\n",
    "        html.H1(\"Employment by Sex and Economic Activity\"),\n",
    "        dcc.Dropdown(\n",
    "            id=\"sex-dropdown\",\n",
    "            options=[\n",
    "                {\"label\": sex, \"value\": sex}\n",
    "                for sex in employment_isic_total[\"sex.label\"].unique()\n",
    "            ],\n",
    "            value=\"Total\",\n",
    "        ),\n",
    "        dcc.Slider(\n",
    "            id=\"year-slider\",\n",
    "            min=employment_isic_total[\"time\"].min(),\n",
    "            max=employment_isic_total[\"time\"].max(),\n",
    "            value=employment_isic_total[\"time\"].min(),\n",
    "            marks={\n",
    "                str(year): {\"label\": str(year), \"style\": {\"font-size\": \"9px\"}}\n",
    "                for year in employment_isic_total[\"time\"].unique()\n",
    "            },\n",
    "            step=None,\n",
    "        ),\n",
    "        dcc.Graph(id=\"map-graph\"),\n",
    "    ]\n",
    ")\n",
    "\n",
    "\n",
    "@app.callback(\n",
    "    Output(\"map-graph\", \"figure\"),\n",
    "    [Input(\"sex-dropdown\", \"value\"), Input(\"year-slider\", \"value\")],\n",
    ")\n",
    "def update_figure(selected_sex, selected_year):\n",
    "    filtered_df = employment_isic_total[\n",
    "        (employment_isic_total[\"sex.label\"] == selected_sex)\n",
    "        & (employment_isic_total[\"time\"] == selected_year)\n",
    "    ]\n",
    "\n",
    "    fig = px.choropleth(\n",
    "        filtered_df,\n",
    "        locations=\"ref_area.label\",\n",
    "        locationmode=\"country names\",\n",
    "        color=\"obs_value\",\n",
    "        hover_name=\"ref_area.label\",\n",
    "        color_continuous_scale=px.colors.sequential.Plasma,\n",
    "        title=f\"Employment by sex and economic activity ({selected_sex}) in {selected_year}\",\n",
    "    )\n",
    "\n",
    "    fig.update_layout(geo=dict(showframe=False, showcoastlines=False))\n",
    "    return fig\n",
    "\n",
    "\n",
    "if __name__ == \"__main__\":\n",
    "    app.run_server(debug=True, port=8051)"
   ]
  },
  {
   "cell_type": "markdown",
   "metadata": {},
   "source": [
    "### United State"
   ]
  },
  {
   "cell_type": "code",
   "execution_count": 15,
   "metadata": {},
   "outputs": [],
   "source": [
    "# United States of America\n",
    "us = employment[employment[\"ref_area.label\"] == \"United States of America\"]"
   ]
  },
  {
   "cell_type": "code",
   "execution_count": 16,
   "metadata": {},
   "outputs": [],
   "source": [
    "# classif1.label contain isic\n",
    "us_isic = us[us[\"classif1.label\"].str.contains(\"ISIC\")]"
   ]
  },
  {
   "cell_type": "code",
   "execution_count": 17,
   "metadata": {},
   "outputs": [],
   "source": [
    "risk = pd.read_csv(\"GSIndustryRisk.csv\")"
   ]
  },
  {
   "cell_type": "code",
   "execution_count": 18,
   "metadata": {},
   "outputs": [],
   "source": [
    "risk[\"average\"] = risk.groupby(\"Mapping\")[\"Percentage\"].transform(\"mean\")"
   ]
  },
  {
   "cell_type": "code",
   "execution_count": 19,
   "metadata": {},
   "outputs": [],
   "source": [
    "risk_subset = risk[[\"Mapping\", \"average\"]].drop_duplicates()"
   ]
  },
  {
   "cell_type": "code",
   "execution_count": 20,
   "metadata": {},
   "outputs": [],
   "source": [
    "merged = us_isic.merge(risk_subset, left_on=\"classif1.label\", right_on=\"Mapping\")"
   ]
  },
  {
   "cell_type": "code",
   "execution_count": 21,
   "metadata": {},
   "outputs": [],
   "source": [
    "merged_subset = merged[\n",
    "    [\"ref_area.label\", \"sex.label\", \"classif1.label\", \"time\", \"obs_value\", \"average\"]\n",
    "]"
   ]
  },
  {
   "cell_type": "code",
   "execution_count": 22,
   "metadata": {},
   "outputs": [],
   "source": [
    "merged_subset_2023 = merged_subset[merged_subset[\"time\"] == 2023]"
   ]
  },
  {
   "cell_type": "code",
   "execution_count": 23,
   "metadata": {},
   "outputs": [],
   "source": [
    "merged_subset_2023[\"affected\"] = (\n",
    "    merged_subset_2023[\"obs_value\"] * merged_subset_2023[\"average\"] / 100 * 1000\n",
    ").astype(int)"
   ]
  },
  {
   "cell_type": "markdown",
   "metadata": {},
   "source": [
    "#### United State AI Affected Industry Count Estimation -- US Map only"
   ]
  },
  {
   "cell_type": "code",
   "execution_count": 24,
   "metadata": {},
   "outputs": [
    {
     "data": {
      "text/html": [
       "\n",
       "        <iframe\n",
       "            width=\"100%\"\n",
       "            height=\"650\"\n",
       "            src=\"http://127.0.0.1:8055/\"\n",
       "            frameborder=\"0\"\n",
       "            allowfullscreen\n",
       "            \n",
       "        ></iframe>\n",
       "        "
      ],
      "text/plain": [
       "<IPython.lib.display.IFrame at 0x122320090>"
      ]
     },
     "metadata": {},
     "output_type": "display_data"
    }
   ],
   "source": [
    "import dash\n",
    "from dash import dcc, html\n",
    "from dash.dependencies import Input, Output\n",
    "import plotly.express as px\n",
    "import pandas as pd\n",
    "\n",
    "# Get unique values for sex.label and classif1.label\n",
    "sex_options = merged_subset_2023[\"sex.label\"].unique()\n",
    "class_options = merged_subset_2023[\"classif1.label\"].unique()\n",
    "\n",
    "# Initialize the Dash app\n",
    "app = dash.Dash(__name__)\n",
    "\n",
    "# Define the layout of the app\n",
    "app.layout = html.Div(\n",
    "    [\n",
    "        dcc.Graph(id=\"map-graph\"),\n",
    "        html.Label(\"Select Sex:\"),\n",
    "        dcc.Dropdown(\n",
    "            id=\"sex-dropdown\",\n",
    "            options=[{\"label\": sex, \"value\": sex} for sex in sex_options],\n",
    "            value=\"Sex: Total\",  # Default value\n",
    "        ),\n",
    "        html.Label(\"Select Class:\"),\n",
    "        dcc.Dropdown(\n",
    "            id=\"class-dropdown\",\n",
    "            options=[\n",
    "                {\"label\": class_label, \"value\": class_label}\n",
    "                for class_label in class_options\n",
    "            ],\n",
    "            value=\"Class A\",  # Default value\n",
    "        ),\n",
    "    ]\n",
    ")\n",
    "\n",
    "\n",
    "# Define callback to update the map based on dropdown selection\n",
    "@app.callback(\n",
    "    Output(\"map-graph\", \"figure\"),\n",
    "    [Input(\"sex-dropdown\", \"value\"), Input(\"class-dropdown\", \"value\")],\n",
    ")\n",
    "def update_map(sex, class_label):\n",
    "    # Filter DataFrame based on selected sex and class\n",
    "    filtered_df = merged_subset_2023[\n",
    "        (merged_subset_2023[\"sex.label\"] == sex)\n",
    "        & (merged_subset_2023[\"classif1.label\"] == class_label)\n",
    "    ]\n",
    "\n",
    "    # Create choropleth map\n",
    "    fig = px.choropleth(\n",
    "        filtered_df,\n",
    "        locations=\"ref_area.label\",\n",
    "        locationmode=\"country names\",\n",
    "        scope=\"usa\",\n",
    "        color=\"affected\",\n",
    "        hover_data=[\"classif1.label\", \"sex.label\"],\n",
    "        labels={\"affected\": \"Affected\"},\n",
    "        title=f\"Affected by Class ({sex}, {class_label})\",\n",
    "        color_continuous_scale=\"Viridis\",\n",
    "    )\n",
    "\n",
    "    return fig\n",
    "\n",
    "\n",
    "# Run the app\n",
    "if __name__ == \"__main__\":\n",
    "    app.run_server(debug=True, port=8055)"
   ]
  },
  {
   "cell_type": "markdown",
   "metadata": {},
   "source": [
    "#### United State AI Affected Industry Count Estimation -- World Map version"
   ]
  },
  {
   "cell_type": "code",
   "execution_count": 25,
   "metadata": {},
   "outputs": [
    {
     "data": {
      "text/html": [
       "\n",
       "        <iframe\n",
       "            width=\"100%\"\n",
       "            height=\"650\"\n",
       "            src=\"http://127.0.0.1:8053/\"\n",
       "            frameborder=\"0\"\n",
       "            allowfullscreen\n",
       "            \n",
       "        ></iframe>\n",
       "        "
      ],
      "text/plain": [
       "<IPython.lib.display.IFrame at 0x2c013b450>"
      ]
     },
     "metadata": {},
     "output_type": "display_data"
    }
   ],
   "source": [
    "import dash\n",
    "from dash import dcc, html\n",
    "from dash.dependencies import Input, Output\n",
    "import plotly.express as px\n",
    "import pandas as pd\n",
    "\n",
    "# Get unique values for sex.label and classif1.label\n",
    "sex_options = merged_subset_2023[\"sex.label\"].unique()\n",
    "class_options = merged_subset_2023[\"classif1.label\"].unique()\n",
    "\n",
    "# Initialize the Dash app\n",
    "app = dash.Dash(__name__)\n",
    "\n",
    "# Define the layout of the app\n",
    "app.layout = html.Div(\n",
    "    [\n",
    "        dcc.Graph(id=\"map-graph\"),\n",
    "        html.Label(\"Select Sex:\"),\n",
    "        dcc.Dropdown(\n",
    "            id=\"sex-dropdown\",\n",
    "            options=[{\"label\": sex, \"value\": sex} for sex in sex_options],\n",
    "            value=\"Sex: Total\",  # Default value\n",
    "        ),\n",
    "        html.Label(\"Select Class:\"),\n",
    "        dcc.Dropdown(\n",
    "            id=\"class-dropdown\",\n",
    "            options=[\n",
    "                {\"label\": class_label, \"value\": class_label}\n",
    "                for class_label in class_options\n",
    "            ],\n",
    "            value=\"Class A\",  # Default value\n",
    "        ),\n",
    "    ]\n",
    ")\n",
    "\n",
    "\n",
    "# Define callback to update the map based on dropdown selection\n",
    "@app.callback(\n",
    "    Output(\"map-graph\", \"figure\"),\n",
    "    [Input(\"sex-dropdown\", \"value\"), Input(\"class-dropdown\", \"value\")],\n",
    ")\n",
    "def update_map(sex, class_label):\n",
    "    # Filter DataFrame based on selected sex and class\n",
    "    filtered_df = merged_subset_2023[\n",
    "        (merged_subset_2023[\"sex.label\"] == sex)\n",
    "        & (merged_subset_2023[\"classif1.label\"] == class_label)\n",
    "    ]\n",
    "\n",
    "    # Create choropleth map\n",
    "    fig = px.choropleth(\n",
    "        filtered_df,\n",
    "        locations=\"ref_area.label\",\n",
    "        locationmode=\"country names\",\n",
    "        scope=\"world\",\n",
    "        color=\"affected\",\n",
    "        hover_data=[\"classif1.label\", \"sex.label\"],\n",
    "        labels={\"affected\": \"Affected\"},\n",
    "        title=f\"Affected by Class ({sex}, {class_label})\",\n",
    "        color_continuous_scale=\"Viridis\",\n",
    "    )\n",
    "\n",
    "    # Only show the United States on the map\n",
    "    fig.update_geos(\n",
    "        visible=False,\n",
    "        showcountries=True,\n",
    "        countrycolor=\"Black\",\n",
    "        showland=True,\n",
    "        landcolor=\"white\",\n",
    "    )\n",
    "\n",
    "    return fig\n",
    "\n",
    "\n",
    "# Run the app\n",
    "if __name__ == \"__main__\":\n",
    "    app.run_server(debug=True, port=8053)"
   ]
  },
  {
   "cell_type": "markdown",
   "metadata": {},
   "source": [
    "#### US Employment By Industry Across Time By Gender"
   ]
  },
  {
   "cell_type": "code",
   "execution_count": 26,
   "metadata": {},
   "outputs": [
    {
     "data": {
      "text/html": [
       "\n",
       "        <iframe\n",
       "            width=\"100%\"\n",
       "            height=\"650\"\n",
       "            src=\"http://127.0.0.1:8054/\"\n",
       "            frameborder=\"0\"\n",
       "            allowfullscreen\n",
       "            \n",
       "        ></iframe>\n",
       "        "
      ],
      "text/plain": [
       "<IPython.lib.display.IFrame at 0x2c42b6d90>"
      ]
     },
     "metadata": {},
     "output_type": "display_data"
    }
   ],
   "source": [
    "import pandas as pd\n",
    "import dash\n",
    "from dash import dcc, html\n",
    "from dash.dependencies import Input, Output\n",
    "import plotly.express as px\n",
    "import warnings\n",
    "\n",
    "warnings.filterwarnings(\"ignore\")\n",
    "\n",
    "# Initialize the Dash app\n",
    "app = dash.Dash(__name__)\n",
    "\n",
    "# Layout of the app\n",
    "app.layout = html.Div(\n",
    "    [\n",
    "        html.H1(\"Interactive Economic Activity Dashboard\"),\n",
    "        dcc.Dropdown(\n",
    "            id=\"classif-dropdown\",\n",
    "            options=[\n",
    "                {\"label\": label, \"value\": label}\n",
    "                for label in merged_subset[\"classif1.label\"].unique()\n",
    "            ],\n",
    "            value=merged_subset[\"classif1.label\"].unique()[0],  # Default value\n",
    "        ),\n",
    "        dcc.Graph(id=\"line-chart\"),\n",
    "        dcc.Slider(\n",
    "            id=\"time-slider\",\n",
    "            min=merged_subset[\"time\"].min(),\n",
    "            max=merged_subset[\"time\"].max(),\n",
    "            value=merged_subset[\"time\"].max(),\n",
    "            marks={str(year): str(year) for year in merged_subset[\"time\"].unique()},\n",
    "            step=None,\n",
    "        ),\n",
    "    ]\n",
    ")\n",
    "\n",
    "\n",
    "# Callback to update the graph\n",
    "@app.callback(\n",
    "    Output(\"line-chart\", \"figure\"),\n",
    "    [Input(\"classif-dropdown\", \"value\"), Input(\"time-slider\", \"value\")],\n",
    ")\n",
    "def update_chart(selected_classif, selected_time):\n",
    "    filtered_subset = merged_subset[\n",
    "        (merged_subset[\"classif1.label\"] == selected_classif)\n",
    "        & (merged_subset[\"time\"] <= selected_time)\n",
    "    ]\n",
    "\n",
    "    fig = px.line(\n",
    "        filtered_subset,\n",
    "        x=\"time\",\n",
    "        y=\"obs_value\",\n",
    "        color=\"sex.label\",\n",
    "        labels={\"obs_value\": \"Observed Value (Thousands)\", \"time\": \"Year\"},\n",
    "        title=f\"Economic Activity: {selected_classif}\",\n",
    "    )\n",
    "\n",
    "    return fig\n",
    "\n",
    "\n",
    "# Run the app\n",
    "if __name__ == \"__main__\":\n",
    "    app.run_server(debug=True, port=8054)"
   ]
  }
 ],
 "metadata": {
  "kernelspec": {
   "display_name": "Python 3 (ipykernel)",
   "language": "python",
   "name": "python3"
  },
  "language_info": {
   "codemirror_mode": {
    "name": "ipython",
    "version": 3
   },
   "file_extension": ".py",
   "mimetype": "text/x-python",
   "name": "python",
   "nbconvert_exporter": "python",
   "pygments_lexer": "ipython3",
   "version": "3.11.5"
  }
 },
 "nbformat": 4,
 "nbformat_minor": 4
}
